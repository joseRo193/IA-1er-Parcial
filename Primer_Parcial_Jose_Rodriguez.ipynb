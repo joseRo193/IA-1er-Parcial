{
  "nbformat": 4,
  "nbformat_minor": 0,
  "metadata": {
    "colab": {
      "name": "Primer Parcial_Jose_Rodriguez.ipynb",
      "provenance": [],
      "collapsed_sections": []
    },
    "kernelspec": {
      "name": "python3",
      "display_name": "Python 3"
    },
    "language_info": {
      "name": "python"
    }
  },
  "cells": [
    {
      "cell_type": "markdown",
      "source": [
        "OBJETIVO: Analizar el tiempo que un estudiante demora en pasar todas la materias de cursos básicos. Mecatronica."
      ],
      "metadata": {
        "id": "DqqQ_N1oj7iV"
      }
    },
    {
      "cell_type": "markdown",
      "source": [
        "# PROCESAMIENTO DE DATOS"
      ],
      "metadata": {
        "id": "Env0IFyPI_Nd"
      }
    },
    {
      "cell_type": "code",
      "execution_count": 1,
      "metadata": {
        "id": "xTawvSDPItmE"
      },
      "outputs": [],
      "source": [
        "import os\n",
        "import pandas as pd\n",
        "import numpy as np\n",
        "import matplotlib.pyplot as plt\n",
        "import seaborn as sns"
      ]
    },
    {
      "cell_type": "markdown",
      "source": [
        "Cargo los datos en formato excel sin subir al drive porque ahi ocurren cosas extranhas"
      ],
      "metadata": {
        "id": "4OzCESPVQ2Ae"
      }
    },
    {
      "cell_type": "code",
      "source": [
        "lectura= pd.read_csv(\"/datosConcatenadossinCI.csv\")\n",
        "pd.set_option('display.max_columns', None) #para ver todas las columnas, solo se usa una vez"
      ],
      "metadata": {
        "id": "4QwsPX83JWoZ"
      },
      "execution_count": 2,
      "outputs": []
    },
    {
      "cell_type": "code",
      "source": [
        "lectura.head()"
      ],
      "metadata": {
        "colab": {
          "base_uri": "https://localhost:8080/",
          "height": 287
        },
        "id": "aBI_kc_6XnP7",
        "outputId": "9ab3414a-1145-4376-bc9f-1961f487921a"
      },
      "execution_count": 3,
      "outputs": [
        {
          "output_type": "execute_result",
          "data": {
            "text/plain": [
              "   Unnamed: 0  danho  ciclo  Cod.Asign  Asignatura Cod.Car.Sec  Cod.Curso  \\\n",
              "0           0   2012      1       2402  COMBUSTION  INT9MECANI       13.0   \n",
              "1           1   2012      1       2402  COMBUSTION  MEC9-OPT         13.0   \n",
              "2           2   2012      1       2402  COMBUSTION  INT9MECANI       13.0   \n",
              "3           3   2012      1       2402  COMBUSTION  MEC9-OPT         13.0   \n",
              "4           4   2012      1       2402  COMBUSTION  MEC9-OPT         13.0   \n",
              "\n",
              "   Convocatoria    Anho  Semestre Aprobado  Anho.Firma  Primer.Par  \\\n",
              "0           1.0  2012.0       1.0        N         0.0         0.0   \n",
              "1           1.0  2012.0       1.0        S      2012.0        11.0   \n",
              "2           1.0  2012.0       1.0        S      2012.0        24.0   \n",
              "3           1.0  2012.0       1.0        S      2012.0        11.0   \n",
              "4           1.0  2012.0       1.0        N         0.0        11.0   \n",
              "\n",
              "   Segundo.Par  AOT  Primer.Rec  Segundo.Rec Nota.Final  Tercer.Par  Asis  \\\n",
              "0          0.0  0.0         0.0          0.0        NaN         0.0   1.0   \n",
              "1         14.0  8.0         0.0          0.0       1F-5         0.0   1.0   \n",
              "2         23.0  9.0         0.0          0.0       1F-5         0.0   1.0   \n",
              "3         14.0  8.0         0.0          0.0  1F-1,2F-2         0.0   1.0   \n",
              "4          4.0  8.0         0.0          0.0        NaN         0.0   1.0   \n",
              "\n",
              "   Cuarto.Par  4P_60 id_anony  \n",
              "0         NaN    NaN     es_0  \n",
              "1         NaN    NaN     es_1  \n",
              "2         NaN    NaN     es_2  \n",
              "3         NaN    NaN     es_3  \n",
              "4         NaN    NaN     es_4  "
            ],
            "text/html": [
              "\n",
              "  <div id=\"df-32828b9e-86ae-4d18-80a7-4354227c61a7\">\n",
              "    <div class=\"colab-df-container\">\n",
              "      <div>\n",
              "<style scoped>\n",
              "    .dataframe tbody tr th:only-of-type {\n",
              "        vertical-align: middle;\n",
              "    }\n",
              "\n",
              "    .dataframe tbody tr th {\n",
              "        vertical-align: top;\n",
              "    }\n",
              "\n",
              "    .dataframe thead th {\n",
              "        text-align: right;\n",
              "    }\n",
              "</style>\n",
              "<table border=\"1\" class=\"dataframe\">\n",
              "  <thead>\n",
              "    <tr style=\"text-align: right;\">\n",
              "      <th></th>\n",
              "      <th>Unnamed: 0</th>\n",
              "      <th>danho</th>\n",
              "      <th>ciclo</th>\n",
              "      <th>Cod.Asign</th>\n",
              "      <th>Asignatura</th>\n",
              "      <th>Cod.Car.Sec</th>\n",
              "      <th>Cod.Curso</th>\n",
              "      <th>Convocatoria</th>\n",
              "      <th>Anho</th>\n",
              "      <th>Semestre</th>\n",
              "      <th>Aprobado</th>\n",
              "      <th>Anho.Firma</th>\n",
              "      <th>Primer.Par</th>\n",
              "      <th>Segundo.Par</th>\n",
              "      <th>AOT</th>\n",
              "      <th>Primer.Rec</th>\n",
              "      <th>Segundo.Rec</th>\n",
              "      <th>Nota.Final</th>\n",
              "      <th>Tercer.Par</th>\n",
              "      <th>Asis</th>\n",
              "      <th>Cuarto.Par</th>\n",
              "      <th>4P_60</th>\n",
              "      <th>id_anony</th>\n",
              "    </tr>\n",
              "  </thead>\n",
              "  <tbody>\n",
              "    <tr>\n",
              "      <th>0</th>\n",
              "      <td>0</td>\n",
              "      <td>2012</td>\n",
              "      <td>1</td>\n",
              "      <td>2402</td>\n",
              "      <td>COMBUSTION</td>\n",
              "      <td>INT9MECANI</td>\n",
              "      <td>13.0</td>\n",
              "      <td>1.0</td>\n",
              "      <td>2012.0</td>\n",
              "      <td>1.0</td>\n",
              "      <td>N</td>\n",
              "      <td>0.0</td>\n",
              "      <td>0.0</td>\n",
              "      <td>0.0</td>\n",
              "      <td>0.0</td>\n",
              "      <td>0.0</td>\n",
              "      <td>0.0</td>\n",
              "      <td>NaN</td>\n",
              "      <td>0.0</td>\n",
              "      <td>1.0</td>\n",
              "      <td>NaN</td>\n",
              "      <td>NaN</td>\n",
              "      <td>es_0</td>\n",
              "    </tr>\n",
              "    <tr>\n",
              "      <th>1</th>\n",
              "      <td>1</td>\n",
              "      <td>2012</td>\n",
              "      <td>1</td>\n",
              "      <td>2402</td>\n",
              "      <td>COMBUSTION</td>\n",
              "      <td>MEC9-OPT</td>\n",
              "      <td>13.0</td>\n",
              "      <td>1.0</td>\n",
              "      <td>2012.0</td>\n",
              "      <td>1.0</td>\n",
              "      <td>S</td>\n",
              "      <td>2012.0</td>\n",
              "      <td>11.0</td>\n",
              "      <td>14.0</td>\n",
              "      <td>8.0</td>\n",
              "      <td>0.0</td>\n",
              "      <td>0.0</td>\n",
              "      <td>1F-5</td>\n",
              "      <td>0.0</td>\n",
              "      <td>1.0</td>\n",
              "      <td>NaN</td>\n",
              "      <td>NaN</td>\n",
              "      <td>es_1</td>\n",
              "    </tr>\n",
              "    <tr>\n",
              "      <th>2</th>\n",
              "      <td>2</td>\n",
              "      <td>2012</td>\n",
              "      <td>1</td>\n",
              "      <td>2402</td>\n",
              "      <td>COMBUSTION</td>\n",
              "      <td>INT9MECANI</td>\n",
              "      <td>13.0</td>\n",
              "      <td>1.0</td>\n",
              "      <td>2012.0</td>\n",
              "      <td>1.0</td>\n",
              "      <td>S</td>\n",
              "      <td>2012.0</td>\n",
              "      <td>24.0</td>\n",
              "      <td>23.0</td>\n",
              "      <td>9.0</td>\n",
              "      <td>0.0</td>\n",
              "      <td>0.0</td>\n",
              "      <td>1F-5</td>\n",
              "      <td>0.0</td>\n",
              "      <td>1.0</td>\n",
              "      <td>NaN</td>\n",
              "      <td>NaN</td>\n",
              "      <td>es_2</td>\n",
              "    </tr>\n",
              "    <tr>\n",
              "      <th>3</th>\n",
              "      <td>3</td>\n",
              "      <td>2012</td>\n",
              "      <td>1</td>\n",
              "      <td>2402</td>\n",
              "      <td>COMBUSTION</td>\n",
              "      <td>MEC9-OPT</td>\n",
              "      <td>13.0</td>\n",
              "      <td>1.0</td>\n",
              "      <td>2012.0</td>\n",
              "      <td>1.0</td>\n",
              "      <td>S</td>\n",
              "      <td>2012.0</td>\n",
              "      <td>11.0</td>\n",
              "      <td>14.0</td>\n",
              "      <td>8.0</td>\n",
              "      <td>0.0</td>\n",
              "      <td>0.0</td>\n",
              "      <td>1F-1,2F-2</td>\n",
              "      <td>0.0</td>\n",
              "      <td>1.0</td>\n",
              "      <td>NaN</td>\n",
              "      <td>NaN</td>\n",
              "      <td>es_3</td>\n",
              "    </tr>\n",
              "    <tr>\n",
              "      <th>4</th>\n",
              "      <td>4</td>\n",
              "      <td>2012</td>\n",
              "      <td>1</td>\n",
              "      <td>2402</td>\n",
              "      <td>COMBUSTION</td>\n",
              "      <td>MEC9-OPT</td>\n",
              "      <td>13.0</td>\n",
              "      <td>1.0</td>\n",
              "      <td>2012.0</td>\n",
              "      <td>1.0</td>\n",
              "      <td>N</td>\n",
              "      <td>0.0</td>\n",
              "      <td>11.0</td>\n",
              "      <td>4.0</td>\n",
              "      <td>8.0</td>\n",
              "      <td>0.0</td>\n",
              "      <td>0.0</td>\n",
              "      <td>NaN</td>\n",
              "      <td>0.0</td>\n",
              "      <td>1.0</td>\n",
              "      <td>NaN</td>\n",
              "      <td>NaN</td>\n",
              "      <td>es_4</td>\n",
              "    </tr>\n",
              "  </tbody>\n",
              "</table>\n",
              "</div>\n",
              "      <button class=\"colab-df-convert\" onclick=\"convertToInteractive('df-32828b9e-86ae-4d18-80a7-4354227c61a7')\"\n",
              "              title=\"Convert this dataframe to an interactive table.\"\n",
              "              style=\"display:none;\">\n",
              "        \n",
              "  <svg xmlns=\"http://www.w3.org/2000/svg\" height=\"24px\"viewBox=\"0 0 24 24\"\n",
              "       width=\"24px\">\n",
              "    <path d=\"M0 0h24v24H0V0z\" fill=\"none\"/>\n",
              "    <path d=\"M18.56 5.44l.94 2.06.94-2.06 2.06-.94-2.06-.94-.94-2.06-.94 2.06-2.06.94zm-11 1L8.5 8.5l.94-2.06 2.06-.94-2.06-.94L8.5 2.5l-.94 2.06-2.06.94zm10 10l.94 2.06.94-2.06 2.06-.94-2.06-.94-.94-2.06-.94 2.06-2.06.94z\"/><path d=\"M17.41 7.96l-1.37-1.37c-.4-.4-.92-.59-1.43-.59-.52 0-1.04.2-1.43.59L10.3 9.45l-7.72 7.72c-.78.78-.78 2.05 0 2.83L4 21.41c.39.39.9.59 1.41.59.51 0 1.02-.2 1.41-.59l7.78-7.78 2.81-2.81c.8-.78.8-2.07 0-2.86zM5.41 20L4 18.59l7.72-7.72 1.47 1.35L5.41 20z\"/>\n",
              "  </svg>\n",
              "      </button>\n",
              "      \n",
              "  <style>\n",
              "    .colab-df-container {\n",
              "      display:flex;\n",
              "      flex-wrap:wrap;\n",
              "      gap: 12px;\n",
              "    }\n",
              "\n",
              "    .colab-df-convert {\n",
              "      background-color: #E8F0FE;\n",
              "      border: none;\n",
              "      border-radius: 50%;\n",
              "      cursor: pointer;\n",
              "      display: none;\n",
              "      fill: #1967D2;\n",
              "      height: 32px;\n",
              "      padding: 0 0 0 0;\n",
              "      width: 32px;\n",
              "    }\n",
              "\n",
              "    .colab-df-convert:hover {\n",
              "      background-color: #E2EBFA;\n",
              "      box-shadow: 0px 1px 2px rgba(60, 64, 67, 0.3), 0px 1px 3px 1px rgba(60, 64, 67, 0.15);\n",
              "      fill: #174EA6;\n",
              "    }\n",
              "\n",
              "    [theme=dark] .colab-df-convert {\n",
              "      background-color: #3B4455;\n",
              "      fill: #D2E3FC;\n",
              "    }\n",
              "\n",
              "    [theme=dark] .colab-df-convert:hover {\n",
              "      background-color: #434B5C;\n",
              "      box-shadow: 0px 1px 3px 1px rgba(0, 0, 0, 0.15);\n",
              "      filter: drop-shadow(0px 1px 2px rgba(0, 0, 0, 0.3));\n",
              "      fill: #FFFFFF;\n",
              "    }\n",
              "  </style>\n",
              "\n",
              "      <script>\n",
              "        const buttonEl =\n",
              "          document.querySelector('#df-32828b9e-86ae-4d18-80a7-4354227c61a7 button.colab-df-convert');\n",
              "        buttonEl.style.display =\n",
              "          google.colab.kernel.accessAllowed ? 'block' : 'none';\n",
              "\n",
              "        async function convertToInteractive(key) {\n",
              "          const element = document.querySelector('#df-32828b9e-86ae-4d18-80a7-4354227c61a7');\n",
              "          const dataTable =\n",
              "            await google.colab.kernel.invokeFunction('convertToInteractive',\n",
              "                                                     [key], {});\n",
              "          if (!dataTable) return;\n",
              "\n",
              "          const docLinkHtml = 'Like what you see? Visit the ' +\n",
              "            '<a target=\"_blank\" href=https://colab.research.google.com/notebooks/data_table.ipynb>data table notebook</a>'\n",
              "            + ' to learn more about interactive tables.';\n",
              "          element.innerHTML = '';\n",
              "          dataTable['output_type'] = 'display_data';\n",
              "          await google.colab.output.renderOutput(dataTable, element);\n",
              "          const docLink = document.createElement('div');\n",
              "          docLink.innerHTML = docLinkHtml;\n",
              "          element.appendChild(docLink);\n",
              "        }\n",
              "      </script>\n",
              "    </div>\n",
              "  </div>\n",
              "  "
            ]
          },
          "metadata": {},
          "execution_count": 3
        }
      ]
    },
    {
      "cell_type": "code",
      "source": [
        "lectura.info()\n"
      ],
      "metadata": {
        "id": "_mDP4pt4MOF_",
        "colab": {
          "base_uri": "https://localhost:8080/"
        },
        "outputId": "6e7043a4-9ce5-4af7-889a-8c3f7577d406"
      },
      "execution_count": 4,
      "outputs": [
        {
          "output_type": "stream",
          "name": "stdout",
          "text": [
            "<class 'pandas.core.frame.DataFrame'>\n",
            "RangeIndex: 21445 entries, 0 to 21444\n",
            "Data columns (total 23 columns):\n",
            " #   Column        Non-Null Count  Dtype  \n",
            "---  ------        --------------  -----  \n",
            " 0   Unnamed: 0    21445 non-null  int64  \n",
            " 1   danho         21445 non-null  int64  \n",
            " 2   ciclo         21445 non-null  int64  \n",
            " 3   Cod.Asign     21445 non-null  int64  \n",
            " 4   Asignatura    21445 non-null  object \n",
            " 5   Cod.Car.Sec   21445 non-null  object \n",
            " 6   Cod.Curso     21444 non-null  float64\n",
            " 7   Convocatoria  21444 non-null  float64\n",
            " 8   Anho          21444 non-null  float64\n",
            " 9   Semestre      21444 non-null  float64\n",
            " 10  Aprobado      21444 non-null  object \n",
            " 11  Anho.Firma    21444 non-null  float64\n",
            " 12  Primer.Par    21444 non-null  float64\n",
            " 13  Segundo.Par   21444 non-null  float64\n",
            " 14  AOT           21444 non-null  float64\n",
            " 15  Primer.Rec    21444 non-null  float64\n",
            " 16  Segundo.Rec   21444 non-null  float64\n",
            " 17  Nota.Final    13660 non-null  object \n",
            " 18  Tercer.Par    21444 non-null  float64\n",
            " 19  Asis          21444 non-null  float64\n",
            " 20  Cuarto.Par    0 non-null      float64\n",
            " 21  4P_60         0 non-null      float64\n",
            " 22  id_anony      21444 non-null  object \n",
            "dtypes: float64(14), int64(4), object(5)\n",
            "memory usage: 3.8+ MB\n"
          ]
        }
      ]
    },
    {
      "cell_type": "code",
      "source": [
        "np.unique(lectura[\"Cod.Car.Sec\"])"
      ],
      "metadata": {
        "id": "LPPgsonnN6XN",
        "colab": {
          "base_uri": "https://localhost:8080/"
        },
        "outputId": "440796ef-1e7a-4167-c25b-176430496698"
      },
      "execution_count": 5,
      "outputs": [
        {
          "output_type": "execute_result",
          "data": {
            "text/plain": [
              "array(['CGF-175-09', 'CGF-PLS09 ', 'CIV-175-09', 'CIV-PL', 'CIV-PLS09 ',\n",
              "       'ECA-175-09', 'ECA-PLS09 ', 'ECA9-OPT  ', 'ELE-175-09',\n",
              "       'ELE-PLS09 ', 'IND-175-09', 'IND-PLS09 ', 'IND-PLS13 ',\n",
              "       'INT9-PROYT', 'INT9CONSTR', 'INT9ELECTR', 'INT9G-ECO ',\n",
              "       'INT9MECANI', 'INT9SANEHI', 'INT9SDIGYT', 'INT9TRANSP',\n",
              "       'MCT-175-09', 'MCT-PLS09 ', 'MCT-PLS13 ', 'MCT9-OPT  ',\n",
              "       'MEC-175-09', 'MEC-PLS09 ', 'MEC9-OPT  ', 'TIVAS     '],\n",
              "      dtype=object)"
            ]
          },
          "metadata": {},
          "execution_count": 5
        }
      ]
    },
    {
      "cell_type": "code",
      "source": [
        "carrera=pd.DataFrame(columns=lectura.columns) # carrera es un dataframe\n",
        "for car in ['MEC-175-09', 'MEC-PLS09 ','MEC-PLS13 ', 'MEC9-OPT  ']:\n",
        "     carrera=pd.concat([carrera, lectura[lectura[\"Cod.Car.Sec\"]==car]], axis=0)"
      ],
      "metadata": {
        "id": "0Wa5viVETeiL"
      },
      "execution_count": 6,
      "outputs": []
    },
    {
      "cell_type": "code",
      "source": [
        "np.unique(carrera[\"Cod.Car.Sec\"])\n"
      ],
      "metadata": {
        "colab": {
          "base_uri": "https://localhost:8080/"
        },
        "id": "ZbZdctt7T52d",
        "outputId": "7ab6493b-f178-460c-a928-2b78aa4c84e5"
      },
      "execution_count": 7,
      "outputs": [
        {
          "output_type": "execute_result",
          "data": {
            "text/plain": [
              "array(['MEC-175-09', 'MEC-PLS09 ', 'MEC9-OPT  '], dtype=object)"
            ]
          },
          "metadata": {},
          "execution_count": 7
        }
      ]
    },
    {
      "cell_type": "code",
      "source": [
        "pd.set_option('display.max_rows', None) #para ver todas las filas, solo se usauna vez"
      ],
      "metadata": {
        "id": "aRJAyGMyckLy"
      },
      "execution_count": 8,
      "outputs": []
    },
    {
      "cell_type": "code",
      "source": [
        "carrera.head()"
      ],
      "metadata": {
        "colab": {
          "base_uri": "https://localhost:8080/",
          "height": 287
        },
        "id": "xQ4cvbSBVlBk",
        "outputId": "3729d544-4159-4f17-88d8-62bc1b809051"
      },
      "execution_count": 9,
      "outputs": [
        {
          "output_type": "execute_result",
          "data": {
            "text/plain": [
              "     Unnamed: 0 danho ciclo Cod.Asign   Asignatura Cod.Car.Sec  Cod.Curso  \\\n",
              "4685       4685  2012     1      5634  LEGISLACION  MEC-175-09       10.0   \n",
              "4687       4687  2012     1      5634  LEGISLACION  MEC-175-09       10.0   \n",
              "4688       4688  2012     1      5634  LEGISLACION  MEC-175-09       10.0   \n",
              "4690       4690  2012     1      5634  LEGISLACION  MEC-175-09       10.0   \n",
              "4691       4691  2012     1      5634  LEGISLACION  MEC-175-09       10.0   \n",
              "\n",
              "      Convocatoria    Anho  Semestre Aprobado  Anho.Firma  Primer.Par  \\\n",
              "4685           1.0  2012.0       1.0        S      2012.0        14.0   \n",
              "4687           1.0  2012.0       1.0        S      2012.0        19.0   \n",
              "4688           1.0  2012.0       1.0        S      2012.0        13.0   \n",
              "4690           1.0  2012.0       1.0        N      2012.0         8.0   \n",
              "4691           1.0  2012.0       1.0        S      2012.0        16.0   \n",
              "\n",
              "      Segundo.Par  AOT  Primer.Rec  Segundo.Rec Nota.Final  Tercer.Par  Asis  \\\n",
              "4685          0.0  0.0         0.0          0.0       1F-3         0.0   1.0   \n",
              "4687          0.0  0.0         0.0          0.0       1F-4         0.0   1.0   \n",
              "4688          0.0  0.0         0.0          0.0       1F-3         0.0   1.0   \n",
              "4690          0.0  0.0         0.0          0.0        NaN         0.0   1.0   \n",
              "4691          0.0  0.0         0.0          0.0       1F-3         0.0   1.0   \n",
              "\n",
              "      Cuarto.Par  4P_60 id_anony  \n",
              "4685         NaN    NaN   es_514  \n",
              "4687         NaN    NaN    es_17  \n",
              "4688         NaN    NaN   es_551  \n",
              "4690         NaN    NaN   es_771  \n",
              "4691         NaN    NaN    es_25  "
            ],
            "text/html": [
              "\n",
              "  <div id=\"df-d5915598-f82d-43b4-8df0-67a7da4a935b\">\n",
              "    <div class=\"colab-df-container\">\n",
              "      <div>\n",
              "<style scoped>\n",
              "    .dataframe tbody tr th:only-of-type {\n",
              "        vertical-align: middle;\n",
              "    }\n",
              "\n",
              "    .dataframe tbody tr th {\n",
              "        vertical-align: top;\n",
              "    }\n",
              "\n",
              "    .dataframe thead th {\n",
              "        text-align: right;\n",
              "    }\n",
              "</style>\n",
              "<table border=\"1\" class=\"dataframe\">\n",
              "  <thead>\n",
              "    <tr style=\"text-align: right;\">\n",
              "      <th></th>\n",
              "      <th>Unnamed: 0</th>\n",
              "      <th>danho</th>\n",
              "      <th>ciclo</th>\n",
              "      <th>Cod.Asign</th>\n",
              "      <th>Asignatura</th>\n",
              "      <th>Cod.Car.Sec</th>\n",
              "      <th>Cod.Curso</th>\n",
              "      <th>Convocatoria</th>\n",
              "      <th>Anho</th>\n",
              "      <th>Semestre</th>\n",
              "      <th>Aprobado</th>\n",
              "      <th>Anho.Firma</th>\n",
              "      <th>Primer.Par</th>\n",
              "      <th>Segundo.Par</th>\n",
              "      <th>AOT</th>\n",
              "      <th>Primer.Rec</th>\n",
              "      <th>Segundo.Rec</th>\n",
              "      <th>Nota.Final</th>\n",
              "      <th>Tercer.Par</th>\n",
              "      <th>Asis</th>\n",
              "      <th>Cuarto.Par</th>\n",
              "      <th>4P_60</th>\n",
              "      <th>id_anony</th>\n",
              "    </tr>\n",
              "  </thead>\n",
              "  <tbody>\n",
              "    <tr>\n",
              "      <th>4685</th>\n",
              "      <td>4685</td>\n",
              "      <td>2012</td>\n",
              "      <td>1</td>\n",
              "      <td>5634</td>\n",
              "      <td>LEGISLACION</td>\n",
              "      <td>MEC-175-09</td>\n",
              "      <td>10.0</td>\n",
              "      <td>1.0</td>\n",
              "      <td>2012.0</td>\n",
              "      <td>1.0</td>\n",
              "      <td>S</td>\n",
              "      <td>2012.0</td>\n",
              "      <td>14.0</td>\n",
              "      <td>0.0</td>\n",
              "      <td>0.0</td>\n",
              "      <td>0.0</td>\n",
              "      <td>0.0</td>\n",
              "      <td>1F-3</td>\n",
              "      <td>0.0</td>\n",
              "      <td>1.0</td>\n",
              "      <td>NaN</td>\n",
              "      <td>NaN</td>\n",
              "      <td>es_514</td>\n",
              "    </tr>\n",
              "    <tr>\n",
              "      <th>4687</th>\n",
              "      <td>4687</td>\n",
              "      <td>2012</td>\n",
              "      <td>1</td>\n",
              "      <td>5634</td>\n",
              "      <td>LEGISLACION</td>\n",
              "      <td>MEC-175-09</td>\n",
              "      <td>10.0</td>\n",
              "      <td>1.0</td>\n",
              "      <td>2012.0</td>\n",
              "      <td>1.0</td>\n",
              "      <td>S</td>\n",
              "      <td>2012.0</td>\n",
              "      <td>19.0</td>\n",
              "      <td>0.0</td>\n",
              "      <td>0.0</td>\n",
              "      <td>0.0</td>\n",
              "      <td>0.0</td>\n",
              "      <td>1F-4</td>\n",
              "      <td>0.0</td>\n",
              "      <td>1.0</td>\n",
              "      <td>NaN</td>\n",
              "      <td>NaN</td>\n",
              "      <td>es_17</td>\n",
              "    </tr>\n",
              "    <tr>\n",
              "      <th>4688</th>\n",
              "      <td>4688</td>\n",
              "      <td>2012</td>\n",
              "      <td>1</td>\n",
              "      <td>5634</td>\n",
              "      <td>LEGISLACION</td>\n",
              "      <td>MEC-175-09</td>\n",
              "      <td>10.0</td>\n",
              "      <td>1.0</td>\n",
              "      <td>2012.0</td>\n",
              "      <td>1.0</td>\n",
              "      <td>S</td>\n",
              "      <td>2012.0</td>\n",
              "      <td>13.0</td>\n",
              "      <td>0.0</td>\n",
              "      <td>0.0</td>\n",
              "      <td>0.0</td>\n",
              "      <td>0.0</td>\n",
              "      <td>1F-3</td>\n",
              "      <td>0.0</td>\n",
              "      <td>1.0</td>\n",
              "      <td>NaN</td>\n",
              "      <td>NaN</td>\n",
              "      <td>es_551</td>\n",
              "    </tr>\n",
              "    <tr>\n",
              "      <th>4690</th>\n",
              "      <td>4690</td>\n",
              "      <td>2012</td>\n",
              "      <td>1</td>\n",
              "      <td>5634</td>\n",
              "      <td>LEGISLACION</td>\n",
              "      <td>MEC-175-09</td>\n",
              "      <td>10.0</td>\n",
              "      <td>1.0</td>\n",
              "      <td>2012.0</td>\n",
              "      <td>1.0</td>\n",
              "      <td>N</td>\n",
              "      <td>2012.0</td>\n",
              "      <td>8.0</td>\n",
              "      <td>0.0</td>\n",
              "      <td>0.0</td>\n",
              "      <td>0.0</td>\n",
              "      <td>0.0</td>\n",
              "      <td>NaN</td>\n",
              "      <td>0.0</td>\n",
              "      <td>1.0</td>\n",
              "      <td>NaN</td>\n",
              "      <td>NaN</td>\n",
              "      <td>es_771</td>\n",
              "    </tr>\n",
              "    <tr>\n",
              "      <th>4691</th>\n",
              "      <td>4691</td>\n",
              "      <td>2012</td>\n",
              "      <td>1</td>\n",
              "      <td>5634</td>\n",
              "      <td>LEGISLACION</td>\n",
              "      <td>MEC-175-09</td>\n",
              "      <td>10.0</td>\n",
              "      <td>1.0</td>\n",
              "      <td>2012.0</td>\n",
              "      <td>1.0</td>\n",
              "      <td>S</td>\n",
              "      <td>2012.0</td>\n",
              "      <td>16.0</td>\n",
              "      <td>0.0</td>\n",
              "      <td>0.0</td>\n",
              "      <td>0.0</td>\n",
              "      <td>0.0</td>\n",
              "      <td>1F-3</td>\n",
              "      <td>0.0</td>\n",
              "      <td>1.0</td>\n",
              "      <td>NaN</td>\n",
              "      <td>NaN</td>\n",
              "      <td>es_25</td>\n",
              "    </tr>\n",
              "  </tbody>\n",
              "</table>\n",
              "</div>\n",
              "      <button class=\"colab-df-convert\" onclick=\"convertToInteractive('df-d5915598-f82d-43b4-8df0-67a7da4a935b')\"\n",
              "              title=\"Convert this dataframe to an interactive table.\"\n",
              "              style=\"display:none;\">\n",
              "        \n",
              "  <svg xmlns=\"http://www.w3.org/2000/svg\" height=\"24px\"viewBox=\"0 0 24 24\"\n",
              "       width=\"24px\">\n",
              "    <path d=\"M0 0h24v24H0V0z\" fill=\"none\"/>\n",
              "    <path d=\"M18.56 5.44l.94 2.06.94-2.06 2.06-.94-2.06-.94-.94-2.06-.94 2.06-2.06.94zm-11 1L8.5 8.5l.94-2.06 2.06-.94-2.06-.94L8.5 2.5l-.94 2.06-2.06.94zm10 10l.94 2.06.94-2.06 2.06-.94-2.06-.94-.94-2.06-.94 2.06-2.06.94z\"/><path d=\"M17.41 7.96l-1.37-1.37c-.4-.4-.92-.59-1.43-.59-.52 0-1.04.2-1.43.59L10.3 9.45l-7.72 7.72c-.78.78-.78 2.05 0 2.83L4 21.41c.39.39.9.59 1.41.59.51 0 1.02-.2 1.41-.59l7.78-7.78 2.81-2.81c.8-.78.8-2.07 0-2.86zM5.41 20L4 18.59l7.72-7.72 1.47 1.35L5.41 20z\"/>\n",
              "  </svg>\n",
              "      </button>\n",
              "      \n",
              "  <style>\n",
              "    .colab-df-container {\n",
              "      display:flex;\n",
              "      flex-wrap:wrap;\n",
              "      gap: 12px;\n",
              "    }\n",
              "\n",
              "    .colab-df-convert {\n",
              "      background-color: #E8F0FE;\n",
              "      border: none;\n",
              "      border-radius: 50%;\n",
              "      cursor: pointer;\n",
              "      display: none;\n",
              "      fill: #1967D2;\n",
              "      height: 32px;\n",
              "      padding: 0 0 0 0;\n",
              "      width: 32px;\n",
              "    }\n",
              "\n",
              "    .colab-df-convert:hover {\n",
              "      background-color: #E2EBFA;\n",
              "      box-shadow: 0px 1px 2px rgba(60, 64, 67, 0.3), 0px 1px 3px 1px rgba(60, 64, 67, 0.15);\n",
              "      fill: #174EA6;\n",
              "    }\n",
              "\n",
              "    [theme=dark] .colab-df-convert {\n",
              "      background-color: #3B4455;\n",
              "      fill: #D2E3FC;\n",
              "    }\n",
              "\n",
              "    [theme=dark] .colab-df-convert:hover {\n",
              "      background-color: #434B5C;\n",
              "      box-shadow: 0px 1px 3px 1px rgba(0, 0, 0, 0.15);\n",
              "      filter: drop-shadow(0px 1px 2px rgba(0, 0, 0, 0.3));\n",
              "      fill: #FFFFFF;\n",
              "    }\n",
              "  </style>\n",
              "\n",
              "      <script>\n",
              "        const buttonEl =\n",
              "          document.querySelector('#df-d5915598-f82d-43b4-8df0-67a7da4a935b button.colab-df-convert');\n",
              "        buttonEl.style.display =\n",
              "          google.colab.kernel.accessAllowed ? 'block' : 'none';\n",
              "\n",
              "        async function convertToInteractive(key) {\n",
              "          const element = document.querySelector('#df-d5915598-f82d-43b4-8df0-67a7da4a935b');\n",
              "          const dataTable =\n",
              "            await google.colab.kernel.invokeFunction('convertToInteractive',\n",
              "                                                     [key], {});\n",
              "          if (!dataTable) return;\n",
              "\n",
              "          const docLinkHtml = 'Like what you see? Visit the ' +\n",
              "            '<a target=\"_blank\" href=https://colab.research.google.com/notebooks/data_table.ipynb>data table notebook</a>'\n",
              "            + ' to learn more about interactive tables.';\n",
              "          element.innerHTML = '';\n",
              "          dataTable['output_type'] = 'display_data';\n",
              "          await google.colab.output.renderOutput(dataTable, element);\n",
              "          const docLink = document.createElement('div');\n",
              "          docLink.innerHTML = docLinkHtml;\n",
              "          element.appendChild(docLink);\n",
              "        }\n",
              "      </script>\n",
              "    </div>\n",
              "  </div>\n",
              "  "
            ]
          },
          "metadata": {},
          "execution_count": 9
        }
      ]
    },
    {
      "cell_type": "code",
      "source": [
        "allasig= np.unique(carrera['Asignatura']) \n",
        "print(allasig)\n"
      ],
      "metadata": {
        "id": "5bjzdVSLpA1_",
        "colab": {
          "base_uri": "https://localhost:8080/"
        },
        "outputId": "1be2e192-9af1-40fb-adfb-e6c4bf14c663"
      },
      "execution_count": 10,
      "outputs": [
        {
          "output_type": "stream",
          "name": "stdout",
          "text": [
            "['ACONDICIONADOR DE AIRE Y REFRIGERACION' 'ALGEBRA LINEAL 1'\n",
            " 'ALGEBRA LINEAL 2' 'AUTOMATIZACION Y CONTROL' 'AUTOMOTORES' 'CALCULO 1'\n",
            " 'CALCULO 2' 'CALCULO 3' 'CALCULO 4' 'CALCULO 5'\n",
            " 'CALIDAD E IMPACTO AMBIENTAL' 'COMBUSTION' 'COMPUTACION'\n",
            " 'DIBUJO MECANICO' 'DIBUJO TECNICO' 'DINAMICA'\n",
            " 'DINAMICA DE MAQUINAS Y VIBRACIONES' 'ECONOMIA Y EVALUACION DE PROYECTO'\n",
            " 'EFICIENCIA ENERGETICA' 'ELECTRONICA BASICA' 'ELECTROTECNIA'\n",
            " 'ELEMENTOS DE MAQUINAS' 'ENERGIA SOLAR Y BIOMASA' 'ESTATICA' 'FISICA 1'\n",
            " 'FISICA 2' 'FISICA 3' 'FISICA 4' 'GEOMETRIA ANALITICA'\n",
            " 'GESTION DE PROYECTOS' 'INGENIERIA DE MANTENIMIENTO'\n",
            " 'INSTALACIONES INDUSTRIALES'\n",
            " 'INTRODUCCION A LA FISICA ATOMICA Y MOLECULAR'\n",
            " 'INTRODUCCION A LA INVESTIGACION' 'INTRODUCCION A LA SIMULACION'\n",
            " 'INVESTIGACION OPERATIVA' 'LABORATORIO MECANICO 1'\n",
            " 'LABORATORIO MECANICO 2' 'LABORATORIO MECANICO 3' 'LEGISLACION'\n",
            " 'MANTENIMIENTO MECANICO' 'MAQUINAS DE FLUJO ' 'MATERIALES 1'\n",
            " 'MATERIALES 2' 'MECANICA DE FLUIDOS' 'MECANICA DE FLUIDOS AVANZADOS '\n",
            " 'MECANICA DE MATERIALES 1' 'MECANICA DE SOLIDOS' 'MECANISMOS'\n",
            " 'METROLOGIA' 'ORGANIZACION INDUSTRIAL Y SEGURIDAD DEL TRABAJO'\n",
            " 'PASANTIAS' 'PLASTICOS' 'PLC' 'PROBABILIDAD Y ESTADISTICA '\n",
            " 'PROCESOS DE FABRICACION 1' 'PROCESOS DE FABRICACION 2'\n",
            " 'PROYECTO INTEGRADO' 'QUIMICA GENERAL'\n",
            " 'SISTEMAS HIDRAULICOS Y NEUMATICOS' 'TECNICA DE ENERGIAS ALTERNATIVAS'\n",
            " 'TECNOLOGIA DE LOS MATERIALES' 'TERMODINAMICA' 'TERMOTECNIA 1'\n",
            " 'TERMOTECNIA 2' 'TRANSFERENCIA DE CALOR']\n"
          ]
        }
      ]
    },
    {
      "cell_type": "markdown",
      "source": [
        "tengo que eliminar las materias que no correponden a cursos basicos de un mecatronico"
      ],
      "metadata": {
        "id": "IIZOvMaIAPuo"
      }
    },
    {
      "cell_type": "code",
      "source": [
        "asig_mct_cb=['ALGEBRA LINEAL 1','ALGEBRA LINEAL 2','CALCULO 1', 'CALCULO 2','CALCULO 3','COMPUTACION','DIBUJO TECNICO', 'DINAMICA', 'FISICA 4', 'MECANICA DE MATERIALES','ESTATICA','FISICA 1', 'FISICA 2','FISICA 3', 'TECNOLOGIA DE LOS MATERIALES', 'GEOMETRIA ANALITICA','GEOMETRIA DESCRIPTIVA','CALCULO 4','CALCULO 5','PROBABILIDAD Y ESTADISTICA','PROBABILIDAD Y ESTADISTICA ','QUIMICA GENERAL']\n",
        "#resp=[elementoU in allasig for elementoU in asig_mct_cb]\n",
        "#print(resp)"
      ],
      "metadata": {
        "id": "V3tfOg9eqY8C"
      },
      "execution_count": 11,
      "outputs": []
    },
    {
      "cell_type": "code",
      "source": [
        "len(asig_mct_cb) \n"
      ],
      "metadata": {
        "colab": {
          "base_uri": "https://localhost:8080/"
        },
        "id": "1NCCSnU27Lz6",
        "outputId": "052f86f8-06ce-4ba3-f0a6-098c663cbbcc"
      },
      "execution_count": 12,
      "outputs": [
        {
          "output_type": "execute_result",
          "data": {
            "text/plain": [
              "22"
            ]
          },
          "metadata": {},
          "execution_count": 12
        }
      ]
    },
    {
      "cell_type": "markdown",
      "source": [
        "OBSERVACIONES: proba se repite 2 veces y en la malla cambio Elec y circ electricos por electromagnetismo. \n",
        "En la malla 2009 hay 20 materias en cb y en la malla 2013 se agrego una mas, geo descriptiva"
      ],
      "metadata": {
        "id": "Z8JMmR1nAZqP"
      }
    },
    {
      "cell_type": "code",
      "source": [
        "carrerafiltrada=pd.DataFrame(columns=carrera.columns) # carrerafiltrada es un dataframe con los alumnos de cursos basicos \n",
        "for car in asig_mct_cb:\n",
        "     carrerafiltrada=pd.concat([carrerafiltrada, carrera[carrera[\"Asignatura\"]==car]], axis=0)"
      ],
      "metadata": {
        "id": "bHQ1GMErYQak"
      },
      "execution_count": 13,
      "outputs": []
    },
    {
      "cell_type": "code",
      "source": [
        "carrerafiltrada.head()"
      ],
      "metadata": {
        "colab": {
          "base_uri": "https://localhost:8080/",
          "height": 374
        },
        "id": "Ez9kZP4WmAOQ",
        "outputId": "f9b38e24-7988-4bb4-c4f4-e33b71b1c7bb"
      },
      "execution_count": 14,
      "outputs": [
        {
          "output_type": "execute_result",
          "data": {
            "text/plain": [
              "      Unnamed: 0 danho ciclo Cod.Asign        Asignatura Cod.Car.Sec  \\\n",
              "15005       7574  2012     2      9004  ALGEBRA LINEAL 1  MEC-PLS09    \n",
              "15018       7587  2012     2      9004  ALGEBRA LINEAL 1  MEC-PLS09    \n",
              "15022       7591  2012     2      9004  ALGEBRA LINEAL 1  MEC-PLS09    \n",
              "15044       7613  2012     2      9004  ALGEBRA LINEAL 1  MEC-PLS09    \n",
              "15054       7623  2012     2      9004  ALGEBRA LINEAL 1  MEC-PLS09    \n",
              "\n",
              "       Cod.Curso  Convocatoria    Anho  Semestre Aprobado  Anho.Firma  \\\n",
              "15005        1.0           1.0  2012.0       2.0        N         0.0   \n",
              "15018        1.0           1.0  2012.0       2.0        N      2012.0   \n",
              "15022        1.0           1.0  2012.0       2.0        S      2012.0   \n",
              "15044        1.0           1.0  2012.0       2.0        N         0.0   \n",
              "15054        1.0           1.0  2012.0       2.0        N         0.0   \n",
              "\n",
              "       Primer.Par  Segundo.Par   AOT  Primer.Rec  Segundo.Rec Nota.Final  \\\n",
              "15005         0.0          0.0   0.0         0.0          0.0        NaN   \n",
              "15018         5.0         24.0   8.0         0.0          0.0  1F-1,2F-1   \n",
              "15022        15.0         31.0  10.0         0.0          0.0       1F-4   \n",
              "15044        10.0         10.0   6.0        27.0          0.0        NaN   \n",
              "15054         1.0         10.0   8.0         0.0          0.0        NaN   \n",
              "\n",
              "       Tercer.Par  Asis  Cuarto.Par  4P_60 id_anony  \n",
              "15005         0.0   1.0         NaN    NaN  es_1372  \n",
              "15018         0.0   1.0         NaN    NaN  es_1525  \n",
              "15022         0.0   1.0         NaN    NaN  es_1528  \n",
              "15044         0.0   0.0         NaN    NaN  es_1546  \n",
              "15054         0.0   1.0         NaN    NaN  es_1556  "
            ],
            "text/html": [
              "\n",
              "  <div id=\"df-98900010-4d15-49db-b44a-53ffc8872e54\">\n",
              "    <div class=\"colab-df-container\">\n",
              "      <div>\n",
              "<style scoped>\n",
              "    .dataframe tbody tr th:only-of-type {\n",
              "        vertical-align: middle;\n",
              "    }\n",
              "\n",
              "    .dataframe tbody tr th {\n",
              "        vertical-align: top;\n",
              "    }\n",
              "\n",
              "    .dataframe thead th {\n",
              "        text-align: right;\n",
              "    }\n",
              "</style>\n",
              "<table border=\"1\" class=\"dataframe\">\n",
              "  <thead>\n",
              "    <tr style=\"text-align: right;\">\n",
              "      <th></th>\n",
              "      <th>Unnamed: 0</th>\n",
              "      <th>danho</th>\n",
              "      <th>ciclo</th>\n",
              "      <th>Cod.Asign</th>\n",
              "      <th>Asignatura</th>\n",
              "      <th>Cod.Car.Sec</th>\n",
              "      <th>Cod.Curso</th>\n",
              "      <th>Convocatoria</th>\n",
              "      <th>Anho</th>\n",
              "      <th>Semestre</th>\n",
              "      <th>Aprobado</th>\n",
              "      <th>Anho.Firma</th>\n",
              "      <th>Primer.Par</th>\n",
              "      <th>Segundo.Par</th>\n",
              "      <th>AOT</th>\n",
              "      <th>Primer.Rec</th>\n",
              "      <th>Segundo.Rec</th>\n",
              "      <th>Nota.Final</th>\n",
              "      <th>Tercer.Par</th>\n",
              "      <th>Asis</th>\n",
              "      <th>Cuarto.Par</th>\n",
              "      <th>4P_60</th>\n",
              "      <th>id_anony</th>\n",
              "    </tr>\n",
              "  </thead>\n",
              "  <tbody>\n",
              "    <tr>\n",
              "      <th>15005</th>\n",
              "      <td>7574</td>\n",
              "      <td>2012</td>\n",
              "      <td>2</td>\n",
              "      <td>9004</td>\n",
              "      <td>ALGEBRA LINEAL 1</td>\n",
              "      <td>MEC-PLS09</td>\n",
              "      <td>1.0</td>\n",
              "      <td>1.0</td>\n",
              "      <td>2012.0</td>\n",
              "      <td>2.0</td>\n",
              "      <td>N</td>\n",
              "      <td>0.0</td>\n",
              "      <td>0.0</td>\n",
              "      <td>0.0</td>\n",
              "      <td>0.0</td>\n",
              "      <td>0.0</td>\n",
              "      <td>0.0</td>\n",
              "      <td>NaN</td>\n",
              "      <td>0.0</td>\n",
              "      <td>1.0</td>\n",
              "      <td>NaN</td>\n",
              "      <td>NaN</td>\n",
              "      <td>es_1372</td>\n",
              "    </tr>\n",
              "    <tr>\n",
              "      <th>15018</th>\n",
              "      <td>7587</td>\n",
              "      <td>2012</td>\n",
              "      <td>2</td>\n",
              "      <td>9004</td>\n",
              "      <td>ALGEBRA LINEAL 1</td>\n",
              "      <td>MEC-PLS09</td>\n",
              "      <td>1.0</td>\n",
              "      <td>1.0</td>\n",
              "      <td>2012.0</td>\n",
              "      <td>2.0</td>\n",
              "      <td>N</td>\n",
              "      <td>2012.0</td>\n",
              "      <td>5.0</td>\n",
              "      <td>24.0</td>\n",
              "      <td>8.0</td>\n",
              "      <td>0.0</td>\n",
              "      <td>0.0</td>\n",
              "      <td>1F-1,2F-1</td>\n",
              "      <td>0.0</td>\n",
              "      <td>1.0</td>\n",
              "      <td>NaN</td>\n",
              "      <td>NaN</td>\n",
              "      <td>es_1525</td>\n",
              "    </tr>\n",
              "    <tr>\n",
              "      <th>15022</th>\n",
              "      <td>7591</td>\n",
              "      <td>2012</td>\n",
              "      <td>2</td>\n",
              "      <td>9004</td>\n",
              "      <td>ALGEBRA LINEAL 1</td>\n",
              "      <td>MEC-PLS09</td>\n",
              "      <td>1.0</td>\n",
              "      <td>1.0</td>\n",
              "      <td>2012.0</td>\n",
              "      <td>2.0</td>\n",
              "      <td>S</td>\n",
              "      <td>2012.0</td>\n",
              "      <td>15.0</td>\n",
              "      <td>31.0</td>\n",
              "      <td>10.0</td>\n",
              "      <td>0.0</td>\n",
              "      <td>0.0</td>\n",
              "      <td>1F-4</td>\n",
              "      <td>0.0</td>\n",
              "      <td>1.0</td>\n",
              "      <td>NaN</td>\n",
              "      <td>NaN</td>\n",
              "      <td>es_1528</td>\n",
              "    </tr>\n",
              "    <tr>\n",
              "      <th>15044</th>\n",
              "      <td>7613</td>\n",
              "      <td>2012</td>\n",
              "      <td>2</td>\n",
              "      <td>9004</td>\n",
              "      <td>ALGEBRA LINEAL 1</td>\n",
              "      <td>MEC-PLS09</td>\n",
              "      <td>1.0</td>\n",
              "      <td>1.0</td>\n",
              "      <td>2012.0</td>\n",
              "      <td>2.0</td>\n",
              "      <td>N</td>\n",
              "      <td>0.0</td>\n",
              "      <td>10.0</td>\n",
              "      <td>10.0</td>\n",
              "      <td>6.0</td>\n",
              "      <td>27.0</td>\n",
              "      <td>0.0</td>\n",
              "      <td>NaN</td>\n",
              "      <td>0.0</td>\n",
              "      <td>0.0</td>\n",
              "      <td>NaN</td>\n",
              "      <td>NaN</td>\n",
              "      <td>es_1546</td>\n",
              "    </tr>\n",
              "    <tr>\n",
              "      <th>15054</th>\n",
              "      <td>7623</td>\n",
              "      <td>2012</td>\n",
              "      <td>2</td>\n",
              "      <td>9004</td>\n",
              "      <td>ALGEBRA LINEAL 1</td>\n",
              "      <td>MEC-PLS09</td>\n",
              "      <td>1.0</td>\n",
              "      <td>1.0</td>\n",
              "      <td>2012.0</td>\n",
              "      <td>2.0</td>\n",
              "      <td>N</td>\n",
              "      <td>0.0</td>\n",
              "      <td>1.0</td>\n",
              "      <td>10.0</td>\n",
              "      <td>8.0</td>\n",
              "      <td>0.0</td>\n",
              "      <td>0.0</td>\n",
              "      <td>NaN</td>\n",
              "      <td>0.0</td>\n",
              "      <td>1.0</td>\n",
              "      <td>NaN</td>\n",
              "      <td>NaN</td>\n",
              "      <td>es_1556</td>\n",
              "    </tr>\n",
              "  </tbody>\n",
              "</table>\n",
              "</div>\n",
              "      <button class=\"colab-df-convert\" onclick=\"convertToInteractive('df-98900010-4d15-49db-b44a-53ffc8872e54')\"\n",
              "              title=\"Convert this dataframe to an interactive table.\"\n",
              "              style=\"display:none;\">\n",
              "        \n",
              "  <svg xmlns=\"http://www.w3.org/2000/svg\" height=\"24px\"viewBox=\"0 0 24 24\"\n",
              "       width=\"24px\">\n",
              "    <path d=\"M0 0h24v24H0V0z\" fill=\"none\"/>\n",
              "    <path d=\"M18.56 5.44l.94 2.06.94-2.06 2.06-.94-2.06-.94-.94-2.06-.94 2.06-2.06.94zm-11 1L8.5 8.5l.94-2.06 2.06-.94-2.06-.94L8.5 2.5l-.94 2.06-2.06.94zm10 10l.94 2.06.94-2.06 2.06-.94-2.06-.94-.94-2.06-.94 2.06-2.06.94z\"/><path d=\"M17.41 7.96l-1.37-1.37c-.4-.4-.92-.59-1.43-.59-.52 0-1.04.2-1.43.59L10.3 9.45l-7.72 7.72c-.78.78-.78 2.05 0 2.83L4 21.41c.39.39.9.59 1.41.59.51 0 1.02-.2 1.41-.59l7.78-7.78 2.81-2.81c.8-.78.8-2.07 0-2.86zM5.41 20L4 18.59l7.72-7.72 1.47 1.35L5.41 20z\"/>\n",
              "  </svg>\n",
              "      </button>\n",
              "      \n",
              "  <style>\n",
              "    .colab-df-container {\n",
              "      display:flex;\n",
              "      flex-wrap:wrap;\n",
              "      gap: 12px;\n",
              "    }\n",
              "\n",
              "    .colab-df-convert {\n",
              "      background-color: #E8F0FE;\n",
              "      border: none;\n",
              "      border-radius: 50%;\n",
              "      cursor: pointer;\n",
              "      display: none;\n",
              "      fill: #1967D2;\n",
              "      height: 32px;\n",
              "      padding: 0 0 0 0;\n",
              "      width: 32px;\n",
              "    }\n",
              "\n",
              "    .colab-df-convert:hover {\n",
              "      background-color: #E2EBFA;\n",
              "      box-shadow: 0px 1px 2px rgba(60, 64, 67, 0.3), 0px 1px 3px 1px rgba(60, 64, 67, 0.15);\n",
              "      fill: #174EA6;\n",
              "    }\n",
              "\n",
              "    [theme=dark] .colab-df-convert {\n",
              "      background-color: #3B4455;\n",
              "      fill: #D2E3FC;\n",
              "    }\n",
              "\n",
              "    [theme=dark] .colab-df-convert:hover {\n",
              "      background-color: #434B5C;\n",
              "      box-shadow: 0px 1px 3px 1px rgba(0, 0, 0, 0.15);\n",
              "      filter: drop-shadow(0px 1px 2px rgba(0, 0, 0, 0.3));\n",
              "      fill: #FFFFFF;\n",
              "    }\n",
              "  </style>\n",
              "\n",
              "      <script>\n",
              "        const buttonEl =\n",
              "          document.querySelector('#df-98900010-4d15-49db-b44a-53ffc8872e54 button.colab-df-convert');\n",
              "        buttonEl.style.display =\n",
              "          google.colab.kernel.accessAllowed ? 'block' : 'none';\n",
              "\n",
              "        async function convertToInteractive(key) {\n",
              "          const element = document.querySelector('#df-98900010-4d15-49db-b44a-53ffc8872e54');\n",
              "          const dataTable =\n",
              "            await google.colab.kernel.invokeFunction('convertToInteractive',\n",
              "                                                     [key], {});\n",
              "          if (!dataTable) return;\n",
              "\n",
              "          const docLinkHtml = 'Like what you see? Visit the ' +\n",
              "            '<a target=\"_blank\" href=https://colab.research.google.com/notebooks/data_table.ipynb>data table notebook</a>'\n",
              "            + ' to learn more about interactive tables.';\n",
              "          element.innerHTML = '';\n",
              "          dataTable['output_type'] = 'display_data';\n",
              "          await google.colab.output.renderOutput(dataTable, element);\n",
              "          const docLink = document.createElement('div');\n",
              "          docLink.innerHTML = docLinkHtml;\n",
              "          element.appendChild(docLink);\n",
              "        }\n",
              "      </script>\n",
              "    </div>\n",
              "  </div>\n",
              "  "
            ]
          },
          "metadata": {},
          "execution_count": 14
        }
      ]
    },
    {
      "cell_type": "code",
      "source": [
        "\n",
        "carrerafiltrada= carrerafiltrada.replace(['PROBABILIDAD Y ESTADISTICA ' ],'PROBABILIDAD Y ESTADISTICA')\n",
        "materias=np.unique(carrerafiltrada['Asignatura']) \n"
      ],
      "metadata": {
        "id": "XxfqBJBF_yPJ"
      },
      "execution_count": 15,
      "outputs": []
    },
    {
      "cell_type": "markdown",
      "source": [
        "task: Que sucede si un alumno convalida materias para pasar cursos basicos? Por ejemplo Fisica 4 con Electromagnetismo, o C4 con MN, etc(analizar los datos)"
      ],
      "metadata": {
        "id": "QvOqd_FCrRaV"
      }
    },
    {
      "cell_type": "code",
      "source": [
        "cant=np.unique(carrerafiltrada['id_anony']) #esto es para saber la cantidad de alumnos que hay\n",
        "print(len(cant)) #esta es la cantidad de alumnos que cursan o cursaron cursos basicos"
      ],
      "metadata": {
        "id": "AzuDhJP5A5k7",
        "colab": {
          "base_uri": "https://localhost:8080/"
        },
        "outputId": "46795f51-6cd3-4ae1-f819-205cc8d7e28c"
      },
      "execution_count": 16,
      "outputs": [
        {
          "output_type": "stream",
          "name": "stdout",
          "text": [
            "87\n"
          ]
        }
      ]
    },
    {
      "cell_type": "code",
      "source": [
        "#esto sirve para descargar en excel \n",
        "#from google.colab import files\n",
        "#carrerafiltrada.to_csv('carrerafiltrada.csv')\n",
        "#files.download('carrerafiltrada.csv')"
      ],
      "metadata": {
        "id": "L9D2RhWX0Wn2"
      },
      "execution_count": 17,
      "outputs": []
    },
    {
      "cell_type": "markdown",
      "source": [
        "La idea es hacer un dataframe por persona donde podamos ver todas las materias que curso y si curso todas entonces alli evaluar cuanto tiempo tardo en finalizo. "
      ],
      "metadata": {
        "id": "ExvagRHq1I4e"
      }
    },
    {
      "cell_type": "code",
      "source": [
        "  materiaspaso=[]\n",
        "  tardocb=[]\n",
        "  danhoini=[]\n",
        "  id=[]\n",
        "  codcarsec=[]\n",
        "  anhofin=[]\n",
        "  recursadas=[]"
      ],
      "metadata": {
        "id": "6p8Cd5y4XP7A"
      },
      "execution_count": 18,
      "outputs": []
    },
    {
      "cell_type": "code",
      "source": [
        "i=0\n",
        "for alum in cant:\n",
        "  paso = 0\n",
        "  recurso = 0\n",
        "  tardo=0\n",
        "  aux= carrerafiltrada[carrerafiltrada['id_anony']==alum]\n",
        "  plan= np.unique(aux['Cod.Car.Sec'])\n",
        "  aux2= aux[aux['Aprobado']=='S']\n",
        "  aux2=aux2.drop_duplicates(subset=['Asignatura'])# agregar anho y ciclo\n",
        "  paso= len(aux2['Aprobado'])\n",
        "  aux3=aux[aux['Aprobado']=='N']#agregar anho, ciclo,final?\n",
        "  recurso= len(aux3['Aprobado'])\n",
        "  if plan[0] == 'MEC-PLS13' and paso>20:\n",
        "    i+=1\n",
        "    tardo = aux['Anho'].max() - aux['danho'].min()\n",
        "    print(i,tardo)\n",
        "  if plan[0]!='MEC-PLS13' and paso>19:\n",
        "    i+=1\n",
        "    tardo = aux['Anho'].max() - aux['danho'].min()\n",
        "    print(i,tardo)\n",
        "  materiaspaso.append(paso)\n",
        "  tardocb.append(tardo)# histograma\n",
        "  danhoini.append(aux['danho'].min())\n",
        "  id.append(alum)\n",
        "  codcarsec.append(plan[0])\n",
        "  anhofin.append(aux['Anho'].max() )\n",
        "  recursadas.append(recurso)"
      ],
      "metadata": {
        "id": "2s6wpV3v67FJ"
      },
      "execution_count": 19,
      "outputs": []
    },
    {
      "cell_type": "code",
      "source": [
        "len(materiaspaso)"
      ],
      "metadata": {
        "colab": {
          "base_uri": "https://localhost:8080/"
        },
        "id": "WfEFb1EWZ2Ax",
        "outputId": "9c99b904-175e-44df-a72a-1df75ebda66c"
      },
      "execution_count": 20,
      "outputs": [
        {
          "output_type": "execute_result",
          "data": {
            "text/plain": [
              "87"
            ]
          },
          "metadata": {},
          "execution_count": 20
        }
      ]
    },
    {
      "cell_type": "code",
      "source": [
        "new= pd.DataFrame({'danho':danhoini,'id_anony':id,'Cod.Car.Sec':codcarsec,\t'Anho':anhofin,'recurso':recursadas,'paso':materiaspaso,'tardoCB':tardocb })\n",
        "new2=new[new['tardoCB']>0]\n",
        "new2.head()"
      ],
      "metadata": {
        "id": "sUqPblz8dlOx",
        "colab": {
          "base_uri": "https://localhost:8080/",
          "height": 49
        },
        "outputId": "89fd5837-ccd3-4ebc-b79d-5d81112d1d9f"
      },
      "execution_count": 21,
      "outputs": [
        {
          "output_type": "execute_result",
          "data": {
            "text/plain": [
              "Empty DataFrame\n",
              "Columns: [danho, id_anony, Cod.Car.Sec, Anho, recurso, paso, tardoCB]\n",
              "Index: []"
            ],
            "text/html": [
              "\n",
              "  <div id=\"df-975a32af-ace3-43b6-95ff-4e5279eabd7e\">\n",
              "    <div class=\"colab-df-container\">\n",
              "      <div>\n",
              "<style scoped>\n",
              "    .dataframe tbody tr th:only-of-type {\n",
              "        vertical-align: middle;\n",
              "    }\n",
              "\n",
              "    .dataframe tbody tr th {\n",
              "        vertical-align: top;\n",
              "    }\n",
              "\n",
              "    .dataframe thead th {\n",
              "        text-align: right;\n",
              "    }\n",
              "</style>\n",
              "<table border=\"1\" class=\"dataframe\">\n",
              "  <thead>\n",
              "    <tr style=\"text-align: right;\">\n",
              "      <th></th>\n",
              "      <th>danho</th>\n",
              "      <th>id_anony</th>\n",
              "      <th>Cod.Car.Sec</th>\n",
              "      <th>Anho</th>\n",
              "      <th>recurso</th>\n",
              "      <th>paso</th>\n",
              "      <th>tardoCB</th>\n",
              "    </tr>\n",
              "  </thead>\n",
              "  <tbody>\n",
              "  </tbody>\n",
              "</table>\n",
              "</div>\n",
              "      <button class=\"colab-df-convert\" onclick=\"convertToInteractive('df-975a32af-ace3-43b6-95ff-4e5279eabd7e')\"\n",
              "              title=\"Convert this dataframe to an interactive table.\"\n",
              "              style=\"display:none;\">\n",
              "        \n",
              "  <svg xmlns=\"http://www.w3.org/2000/svg\" height=\"24px\"viewBox=\"0 0 24 24\"\n",
              "       width=\"24px\">\n",
              "    <path d=\"M0 0h24v24H0V0z\" fill=\"none\"/>\n",
              "    <path d=\"M18.56 5.44l.94 2.06.94-2.06 2.06-.94-2.06-.94-.94-2.06-.94 2.06-2.06.94zm-11 1L8.5 8.5l.94-2.06 2.06-.94-2.06-.94L8.5 2.5l-.94 2.06-2.06.94zm10 10l.94 2.06.94-2.06 2.06-.94-2.06-.94-.94-2.06-.94 2.06-2.06.94z\"/><path d=\"M17.41 7.96l-1.37-1.37c-.4-.4-.92-.59-1.43-.59-.52 0-1.04.2-1.43.59L10.3 9.45l-7.72 7.72c-.78.78-.78 2.05 0 2.83L4 21.41c.39.39.9.59 1.41.59.51 0 1.02-.2 1.41-.59l7.78-7.78 2.81-2.81c.8-.78.8-2.07 0-2.86zM5.41 20L4 18.59l7.72-7.72 1.47 1.35L5.41 20z\"/>\n",
              "  </svg>\n",
              "      </button>\n",
              "      \n",
              "  <style>\n",
              "    .colab-df-container {\n",
              "      display:flex;\n",
              "      flex-wrap:wrap;\n",
              "      gap: 12px;\n",
              "    }\n",
              "\n",
              "    .colab-df-convert {\n",
              "      background-color: #E8F0FE;\n",
              "      border: none;\n",
              "      border-radius: 50%;\n",
              "      cursor: pointer;\n",
              "      display: none;\n",
              "      fill: #1967D2;\n",
              "      height: 32px;\n",
              "      padding: 0 0 0 0;\n",
              "      width: 32px;\n",
              "    }\n",
              "\n",
              "    .colab-df-convert:hover {\n",
              "      background-color: #E2EBFA;\n",
              "      box-shadow: 0px 1px 2px rgba(60, 64, 67, 0.3), 0px 1px 3px 1px rgba(60, 64, 67, 0.15);\n",
              "      fill: #174EA6;\n",
              "    }\n",
              "\n",
              "    [theme=dark] .colab-df-convert {\n",
              "      background-color: #3B4455;\n",
              "      fill: #D2E3FC;\n",
              "    }\n",
              "\n",
              "    [theme=dark] .colab-df-convert:hover {\n",
              "      background-color: #434B5C;\n",
              "      box-shadow: 0px 1px 3px 1px rgba(0, 0, 0, 0.15);\n",
              "      filter: drop-shadow(0px 1px 2px rgba(0, 0, 0, 0.3));\n",
              "      fill: #FFFFFF;\n",
              "    }\n",
              "  </style>\n",
              "\n",
              "      <script>\n",
              "        const buttonEl =\n",
              "          document.querySelector('#df-975a32af-ace3-43b6-95ff-4e5279eabd7e button.colab-df-convert');\n",
              "        buttonEl.style.display =\n",
              "          google.colab.kernel.accessAllowed ? 'block' : 'none';\n",
              "\n",
              "        async function convertToInteractive(key) {\n",
              "          const element = document.querySelector('#df-975a32af-ace3-43b6-95ff-4e5279eabd7e');\n",
              "          const dataTable =\n",
              "            await google.colab.kernel.invokeFunction('convertToInteractive',\n",
              "                                                     [key], {});\n",
              "          if (!dataTable) return;\n",
              "\n",
              "          const docLinkHtml = 'Like what you see? Visit the ' +\n",
              "            '<a target=\"_blank\" href=https://colab.research.google.com/notebooks/data_table.ipynb>data table notebook</a>'\n",
              "            + ' to learn more about interactive tables.';\n",
              "          element.innerHTML = '';\n",
              "          dataTable['output_type'] = 'display_data';\n",
              "          await google.colab.output.renderOutput(dataTable, element);\n",
              "          const docLink = document.createElement('div');\n",
              "          docLink.innerHTML = docLinkHtml;\n",
              "          element.appendChild(docLink);\n",
              "        }\n",
              "      </script>\n",
              "    </div>\n",
              "  </div>\n",
              "  "
            ]
          },
          "metadata": {},
          "execution_count": 21
        }
      ]
    },
    {
      "cell_type": "code",
      "source": [
        "new2['recurso']"
      ],
      "metadata": {
        "colab": {
          "base_uri": "https://localhost:8080/"
        },
        "id": "E2Xq15FfgQ31",
        "outputId": "6be64568-961b-481d-a36a-b08a05fcc9b3"
      },
      "execution_count": 22,
      "outputs": [
        {
          "output_type": "execute_result",
          "data": {
            "text/plain": [
              "Series([], Name: recurso, dtype: int64)"
            ]
          },
          "metadata": {},
          "execution_count": 22
        }
      ]
    },
    {
      "cell_type": "code",
      "source": [
        "#esto sirve para descargar en excel \n",
        "from google.colab import files\n",
        "carrerafiltrada.to_csv('carrerafiltrada.csv')\n",
        "files.download('carrerafiltrada.csv')"
      ],
      "metadata": {
        "id": "LKXFscbUEIQu",
        "colab": {
          "base_uri": "https://localhost:8080/",
          "height": 17
        },
        "outputId": "1d9a00a5-d278-4430-fcbb-b90b1c63a9fc"
      },
      "execution_count": 23,
      "outputs": [
        {
          "output_type": "display_data",
          "data": {
            "text/plain": [
              "<IPython.core.display.Javascript object>"
            ],
            "application/javascript": [
              "\n",
              "    async function download(id, filename, size) {\n",
              "      if (!google.colab.kernel.accessAllowed) {\n",
              "        return;\n",
              "      }\n",
              "      const div = document.createElement('div');\n",
              "      const label = document.createElement('label');\n",
              "      label.textContent = `Downloading \"${filename}\": `;\n",
              "      div.appendChild(label);\n",
              "      const progress = document.createElement('progress');\n",
              "      progress.max = size;\n",
              "      div.appendChild(progress);\n",
              "      document.body.appendChild(div);\n",
              "\n",
              "      const buffers = [];\n",
              "      let downloaded = 0;\n",
              "\n",
              "      const channel = await google.colab.kernel.comms.open(id);\n",
              "      // Send a message to notify the kernel that we're ready.\n",
              "      channel.send({})\n",
              "\n",
              "      for await (const message of channel.messages) {\n",
              "        // Send a message to notify the kernel that we're ready.\n",
              "        channel.send({})\n",
              "        if (message.buffers) {\n",
              "          for (const buffer of message.buffers) {\n",
              "            buffers.push(buffer);\n",
              "            downloaded += buffer.byteLength;\n",
              "            progress.value = downloaded;\n",
              "          }\n",
              "        }\n",
              "      }\n",
              "      const blob = new Blob(buffers, {type: 'application/binary'});\n",
              "      const a = document.createElement('a');\n",
              "      a.href = window.URL.createObjectURL(blob);\n",
              "      a.download = filename;\n",
              "      div.appendChild(a);\n",
              "      a.click();\n",
              "      div.remove();\n",
              "    }\n",
              "  "
            ]
          },
          "metadata": {}
        },
        {
          "output_type": "display_data",
          "data": {
            "text/plain": [
              "<IPython.core.display.Javascript object>"
            ],
            "application/javascript": [
              "download(\"download_a1054799-5a4f-4b63-98bf-8749e0d8cc4a\", \"carrerafiltrada.csv\", 63474)"
            ]
          },
          "metadata": {}
        }
      ]
    },
    {
      "cell_type": "markdown",
      "source": [
        "Ahora filtrare por persona, para saber todas las materias que curso cada uno. Luego al tener su listado de materias voy a verificar cuantas veces recurso esa misma materia y eso lo anotare en un data frame como extra "
      ],
      "metadata": {
        "id": "DzKzP1U7LPFL"
      }
    },
    {
      "cell_type": "markdown",
      "source": [
        "#REGRESION LINEAL\n"
      ],
      "metadata": {
        "id": "Ly4zV9hjL2Y0"
      }
    },
    {
      "cell_type": "code",
      "source": [
        "from sklearn import linear_model, model_selection\n",
        "from sklearn.linear_model import LinearRegression\n",
        "from sklearn.model_selection import train_test_split"
      ],
      "metadata": {
        "id": "NkOAaepHL-hR"
      },
      "execution_count": 24,
      "outputs": []
    },
    {
      "cell_type": "code",
      "source": [
        "fig,ax= plt.subplots(figsize=(10,10))\n",
        "sns.heatmap(new2.corr())"
      ],
      "metadata": {
        "colab": {
          "base_uri": "https://localhost:8080/",
          "height": 683
        },
        "id": "-HFNkrgfTwh6",
        "outputId": "82c77640-9253-472f-810c-de2ca85ae45d"
      },
      "execution_count": 25,
      "outputs": [
        {
          "output_type": "stream",
          "name": "stderr",
          "text": [
            "/usr/local/lib/python3.7/dist-packages/seaborn/matrix.py:198: RuntimeWarning: All-NaN slice encountered\n",
            "  vmin = np.nanmin(calc_data)\n",
            "/usr/local/lib/python3.7/dist-packages/seaborn/matrix.py:203: RuntimeWarning: All-NaN slice encountered\n",
            "  vmax = np.nanmax(calc_data)\n"
          ]
        },
        {
          "output_type": "execute_result",
          "data": {
            "text/plain": [
              "<matplotlib.axes._subplots.AxesSubplot at 0x7f4d89f2b310>"
            ]
          },
          "metadata": {},
          "execution_count": 25
        },
        {
          "output_type": "display_data",
          "data": {
            "text/plain": [
              "<Figure size 720x720 with 2 Axes>"
            ],
            "image/png": "[encoded data removed]"
          },
          "metadata": {
            "needs_background": "light"
          }
        }
      ]
    },
    {
      "cell_type": "code",
      "source": [
        "x=new2[['paso','danho']].values #stat model buscar\n",
        "y=new2['tardoCB'].values"
      ],
      "metadata": {
        "id": "-3cY_Ze_diM7"
      },
      "execution_count": 26,
      "outputs": []
    },
    {
      "cell_type": "code",
      "source": [
        "X_train, X_test, y_train, y_test = train_test_split(x, y, test_size=0.11,random_state=150)"
      ],
      "metadata": {
        "id": "bOWWKiBneGe2",
        "colab": {
          "base_uri": "https://localhost:8080/",
          "height": 311
        },
        "outputId": "614b2bb3-382d-4162-9c66-bf86bcc5b0bd"
      },
      "execution_count": 27,
      "outputs": [
        {
          "output_type": "error",
          "ename": "ValueError",
          "evalue": "ignored",
          "traceback": [
            "\u001b[0;31m---------------------------------------------------------------------------\u001b[0m",
            "\u001b[0;31mValueError\u001b[0m                                Traceback (most recent call last)",
            "\u001b[0;32m<ipython-input-27-7b222f3fbc7d>\u001b[0m in \u001b[0;36m<module>\u001b[0;34m()\u001b[0m\n\u001b[0;32m----> 1\u001b[0;31m \u001b[0mX_train\u001b[0m\u001b[0;34m,\u001b[0m \u001b[0mX_test\u001b[0m\u001b[0;34m,\u001b[0m \u001b[0my_train\u001b[0m\u001b[0;34m,\u001b[0m \u001b[0my_test\u001b[0m \u001b[0;34m=\u001b[0m \u001b[0mtrain_test_split\u001b[0m\u001b[0;34m(\u001b[0m\u001b[0mx\u001b[0m\u001b[0;34m,\u001b[0m \u001b[0my\u001b[0m\u001b[0;34m,\u001b[0m \u001b[0mtest_size\u001b[0m\u001b[0;34m=\u001b[0m\u001b[0;36m0.11\u001b[0m\u001b[0;34m,\u001b[0m\u001b[0mrandom_state\u001b[0m\u001b[0;34m=\u001b[0m\u001b[0;36m150\u001b[0m\u001b[0;34m)\u001b[0m\u001b[0;34m\u001b[0m\u001b[0;34m\u001b[0m\u001b[0m\n\u001b[0m",
            "\u001b[0;32m/usr/local/lib/python3.7/dist-packages/sklearn/model_selection/_split.py\u001b[0m in \u001b[0;36mtrain_test_split\u001b[0;34m(test_size, train_size, random_state, shuffle, stratify, *arrays)\u001b[0m\n\u001b[1;32m   2419\u001b[0m     \u001b[0mn_samples\u001b[0m \u001b[0;34m=\u001b[0m \u001b[0m_num_samples\u001b[0m\u001b[0;34m(\u001b[0m\u001b[0marrays\u001b[0m\u001b[0;34m[\u001b[0m\u001b[0;36m0\u001b[0m\u001b[0;34m]\u001b[0m\u001b[0;34m)\u001b[0m\u001b[0;34m\u001b[0m\u001b[0;34m\u001b[0m\u001b[0m\n\u001b[1;32m   2420\u001b[0m     n_train, n_test = _validate_shuffle_split(\n\u001b[0;32m-> 2421\u001b[0;31m         \u001b[0mn_samples\u001b[0m\u001b[0;34m,\u001b[0m \u001b[0mtest_size\u001b[0m\u001b[0;34m,\u001b[0m \u001b[0mtrain_size\u001b[0m\u001b[0;34m,\u001b[0m \u001b[0mdefault_test_size\u001b[0m\u001b[0;34m=\u001b[0m\u001b[0;36m0.25\u001b[0m\u001b[0;34m\u001b[0m\u001b[0;34m\u001b[0m\u001b[0m\n\u001b[0m\u001b[1;32m   2422\u001b[0m     )\n\u001b[1;32m   2423\u001b[0m \u001b[0;34m\u001b[0m\u001b[0m\n",
            "\u001b[0;32m/usr/local/lib/python3.7/dist-packages/sklearn/model_selection/_split.py\u001b[0m in \u001b[0;36m_validate_shuffle_split\u001b[0;34m(n_samples, test_size, train_size, default_test_size)\u001b[0m\n\u001b[1;32m   2099\u001b[0m             \u001b[0;34m\"With n_samples={}, test_size={} and train_size={}, the \"\u001b[0m\u001b[0;34m\u001b[0m\u001b[0;34m\u001b[0m\u001b[0m\n\u001b[1;32m   2100\u001b[0m             \u001b[0;34m\"resulting train set will be empty. Adjust any of the \"\u001b[0m\u001b[0;34m\u001b[0m\u001b[0;34m\u001b[0m\u001b[0m\n\u001b[0;32m-> 2101\u001b[0;31m             \u001b[0;34m\"aforementioned parameters.\"\u001b[0m\u001b[0;34m.\u001b[0m\u001b[0mformat\u001b[0m\u001b[0;34m(\u001b[0m\u001b[0mn_samples\u001b[0m\u001b[0;34m,\u001b[0m \u001b[0mtest_size\u001b[0m\u001b[0;34m,\u001b[0m \u001b[0mtrain_size\u001b[0m\u001b[0;34m)\u001b[0m\u001b[0;34m\u001b[0m\u001b[0;34m\u001b[0m\u001b[0m\n\u001b[0m\u001b[1;32m   2102\u001b[0m         )\n\u001b[1;32m   2103\u001b[0m \u001b[0;34m\u001b[0m\u001b[0m\n",
            "\u001b[0;31mValueError\u001b[0m: With n_samples=0, test_size=0.11 and train_size=None, the resulting train set will be empty. Adjust any of the aforementioned parameters."
          ]
        }
      ]
    },
    {
      "cell_type": "code",
      "source": [
        "LR = LinearRegression()\n",
        "LR.fit(X_train,y_train)"
      ],
      "metadata": {
        "colab": {
          "base_uri": "https://localhost:8080/",
          "height": 183
        },
        "id": "iTT0W_efeM6r",
        "outputId": "76d11768-a3d4-4666-cea0-a86847f41bfc"
      },
      "execution_count": 28,
      "outputs": [
        {
          "output_type": "error",
          "ename": "NameError",
          "evalue": "ignored",
          "traceback": [
            "\u001b[0;31m---------------------------------------------------------------------------\u001b[0m",
            "\u001b[0;31mNameError\u001b[0m                                 Traceback (most recent call last)",
            "\u001b[0;32m<ipython-input-28-d6b6a9a2e1f7>\u001b[0m in \u001b[0;36m<module>\u001b[0;34m()\u001b[0m\n\u001b[1;32m      1\u001b[0m \u001b[0mLR\u001b[0m \u001b[0;34m=\u001b[0m \u001b[0mLinearRegression\u001b[0m\u001b[0;34m(\u001b[0m\u001b[0;34m)\u001b[0m\u001b[0;34m\u001b[0m\u001b[0;34m\u001b[0m\u001b[0m\n\u001b[0;32m----> 2\u001b[0;31m \u001b[0mLR\u001b[0m\u001b[0;34m.\u001b[0m\u001b[0mfit\u001b[0m\u001b[0;34m(\u001b[0m\u001b[0mX_train\u001b[0m\u001b[0;34m,\u001b[0m\u001b[0my_train\u001b[0m\u001b[0;34m)\u001b[0m\u001b[0;34m\u001b[0m\u001b[0;34m\u001b[0m\u001b[0m\n\u001b[0m",
            "\u001b[0;31mNameError\u001b[0m: name 'X_train' is not defined"
          ]
        }
      ]
    },
    {
      "cell_type": "code",
      "source": [
        "len(X_test)"
      ],
      "metadata": {
        "colab": {
          "base_uri": "https://localhost:8080/",
          "height": 166
        },
        "id": "7Jok9GTXimqx",
        "outputId": "67619428-a06e-46ea-b0ba-4eb0d82dc347"
      },
      "execution_count": 29,
      "outputs": [
        {
          "output_type": "error",
          "ename": "NameError",
          "evalue": "ignored",
          "traceback": [
            "\u001b[0;31m---------------------------------------------------------------------------\u001b[0m",
            "\u001b[0;31mNameError\u001b[0m                                 Traceback (most recent call last)",
            "\u001b[0;32m<ipython-input-29-18eead9239cb>\u001b[0m in \u001b[0;36m<module>\u001b[0;34m()\u001b[0m\n\u001b[0;32m----> 1\u001b[0;31m \u001b[0mlen\u001b[0m\u001b[0;34m(\u001b[0m\u001b[0mX_test\u001b[0m\u001b[0;34m)\u001b[0m\u001b[0;34m\u001b[0m\u001b[0;34m\u001b[0m\u001b[0m\n\u001b[0m",
            "\u001b[0;31mNameError\u001b[0m: name 'X_test' is not defined"
          ]
        }
      ]
    },
    {
      "cell_type": "markdown",
      "source": [
        "Predecimos"
      ],
      "metadata": {
        "id": "4dhB5FHIeiZ6"
      }
    },
    {
      "cell_type": "code",
      "source": [
        "predictions = LR.predict(X_test)\n",
        "plt.scatter(y_test,predictions)"
      ],
      "metadata": {
        "colab": {
          "base_uri": "https://localhost:8080/",
          "height": 183
        },
        "id": "nQ_dJWgIemWC",
        "outputId": "02ad5079-0a7e-46c3-9143-3180ff5228ca"
      },
      "execution_count": 30,
      "outputs": [
        {
          "output_type": "error",
          "ename": "NameError",
          "evalue": "ignored",
          "traceback": [
            "\u001b[0;31m---------------------------------------------------------------------------\u001b[0m",
            "\u001b[0;31mNameError\u001b[0m                                 Traceback (most recent call last)",
            "\u001b[0;32m<ipython-input-30-0ce9663355b6>\u001b[0m in \u001b[0;36m<module>\u001b[0;34m()\u001b[0m\n\u001b[0;32m----> 1\u001b[0;31m \u001b[0mpredictions\u001b[0m \u001b[0;34m=\u001b[0m \u001b[0mLR\u001b[0m\u001b[0;34m.\u001b[0m\u001b[0mpredict\u001b[0m\u001b[0;34m(\u001b[0m\u001b[0mX_test\u001b[0m\u001b[0;34m)\u001b[0m\u001b[0;34m\u001b[0m\u001b[0;34m\u001b[0m\u001b[0m\n\u001b[0m\u001b[1;32m      2\u001b[0m \u001b[0mplt\u001b[0m\u001b[0;34m.\u001b[0m\u001b[0mscatter\u001b[0m\u001b[0;34m(\u001b[0m\u001b[0my_test\u001b[0m\u001b[0;34m,\u001b[0m\u001b[0mpredictions\u001b[0m\u001b[0;34m)\u001b[0m\u001b[0;34m\u001b[0m\u001b[0;34m\u001b[0m\u001b[0m\n",
            "\u001b[0;31mNameError\u001b[0m: name 'X_test' is not defined"
          ]
        }
      ]
    },
    {
      "cell_type": "code",
      "source": [
        "plt.scatter(X_train,y_train)\n",
        "len(X_train)"
      ],
      "metadata": {
        "colab": {
          "base_uri": "https://localhost:8080/",
          "height": 183
        },
        "id": "h-bHYDc4rMmu",
        "outputId": "f3ea6faf-0b74-4af2-9b44-0c742f27073a"
      },
      "execution_count": 31,
      "outputs": [
        {
          "output_type": "error",
          "ename": "NameError",
          "evalue": "ignored",
          "traceback": [
            "\u001b[0;31m---------------------------------------------------------------------------\u001b[0m",
            "\u001b[0;31mNameError\u001b[0m                                 Traceback (most recent call last)",
            "\u001b[0;32m<ipython-input-31-d7f3298e9a30>\u001b[0m in \u001b[0;36m<module>\u001b[0;34m()\u001b[0m\n\u001b[0;32m----> 1\u001b[0;31m \u001b[0mplt\u001b[0m\u001b[0;34m.\u001b[0m\u001b[0mscatter\u001b[0m\u001b[0;34m(\u001b[0m\u001b[0mX_train\u001b[0m\u001b[0;34m,\u001b[0m\u001b[0my_train\u001b[0m\u001b[0;34m)\u001b[0m\u001b[0;34m\u001b[0m\u001b[0;34m\u001b[0m\u001b[0m\n\u001b[0m\u001b[1;32m      2\u001b[0m \u001b[0mlen\u001b[0m\u001b[0;34m(\u001b[0m\u001b[0mX_train\u001b[0m\u001b[0;34m)\u001b[0m\u001b[0;34m\u001b[0m\u001b[0;34m\u001b[0m\u001b[0m\n",
            "\u001b[0;31mNameError\u001b[0m: name 'X_train' is not defined"
          ]
        }
      ]
    },
    {
      "cell_type": "code",
      "source": [
        "#me falta la recta, mismo grafico y mse todo con el danhoc"
      ],
      "metadata": {
        "id": "CBCYRQMQrbPf"
      },
      "execution_count": 32,
      "outputs": []
    }
  ]
}